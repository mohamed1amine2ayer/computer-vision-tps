{
  "nbformat": 4,
  "nbformat_minor": 0,
  "metadata": {
    "colab": {
      "provenance": [],
      "gpuType": "T4"
    },
    "kernelspec": {
      "name": "python3",
      "display_name": "Python 3"
    },
    "language_info": {
      "name": "python"
    },
    "accelerator": "GPU"
  },
  "cells": [
    {
      "cell_type": "code",
      "source": [
        "from google.colab import drive\n",
        "drive.mount('/content/drive')"
      ],
      "metadata": {
        "colab": {
          "base_uri": "https://localhost:8080/"
        },
        "id": "5YDCtA7f4eov",
        "outputId": "6b490135-25f0-46d0-b139-c38d0cc5826f"
      },
      "execution_count": null,
      "outputs": [
        {
          "output_type": "stream",
          "name": "stdout",
          "text": [
            "Mounted at /content/drive\n"
          ]
        }
      ]
    },
    {
      "cell_type": "code",
      "source": [
        "import matplotlib.pyplot as plt\n",
        "import numpy as np\n",
        "from keras.models import Model\n",
        "from keras.layers import Dense, Input\n",
        "from keras.datasets import mnist\n",
        "from keras.utils import normalize"
      ],
      "metadata": {
        "id": "a0eS14sL43mk"
      },
      "execution_count": null,
      "outputs": []
    },
    {
      "cell_type": "code",
      "source": [
        "(x_train, y_train), (x_test, y_test) = mnist.load_data()"
      ],
      "metadata": {
        "colab": {
          "base_uri": "https://localhost:8080/"
        },
        "id": "YKf5x15P4krO",
        "outputId": "0252e235-f2f3-4a16-9cf5-623624e70e05"
      },
      "execution_count": null,
      "outputs": [
        {
          "output_type": "stream",
          "name": "stdout",
          "text": [
            "Downloading data from https://storage.googleapis.com/tensorflow/tf-keras-datasets/mnist.npz\n",
            "11490434/11490434 [==============================] - 0s 0us/step\n"
          ]
        }
      ]
    },
    {
      "cell_type": "code",
      "source": [
        "# Normaliser les données\n",
        "x_train = x_train.astype('float32') / 255.0\n",
        "x_test = x_test.astype('float32')  / 255.0"
      ],
      "metadata": {
        "id": "QxAFv1cO5Rax"
      },
      "execution_count": null,
      "outputs": []
    },
    {
      "cell_type": "code",
      "source": [
        "x_train.shape\n"
      ],
      "metadata": {
        "colab": {
          "base_uri": "https://localhost:8080/"
        },
        "id": "SGHYxY8X6Uji",
        "outputId": "ebd1cf22-f9a1-4388-aab5-d7619b5309d4"
      },
      "execution_count": null,
      "outputs": [
        {
          "output_type": "execute_result",
          "data": {
            "text/plain": [
              "(60000, 28, 28)"
            ]
          },
          "metadata": {},
          "execution_count": 7
        }
      ]
    },
    {
      "cell_type": "code",
      "source": [
        "# Redimensionner les données\n",
        "x_train1 = x_train.reshape((x_train.shape[0], x_train.shape[1] * x_train.shape[2]))\n",
        "x_test1 = x_test.reshape((x_test.shape[0], x_test.shape[1]*x_test.shape[2]))\n"
      ],
      "metadata": {
        "id": "HpHqTd-J50sa"
      },
      "execution_count": null,
      "outputs": []
    },
    {
      "cell_type": "code",
      "source": [
        "x_train1.shape"
      ],
      "metadata": {
        "colab": {
          "base_uri": "https://localhost:8080/"
        },
        "id": "fYMdFMT56QLH",
        "outputId": "1c364588-9f8c-44c8-d970-2d524f215cb2"
      },
      "execution_count": null,
      "outputs": [
        {
          "output_type": "execute_result",
          "data": {
            "text/plain": [
              "(60000, 784)"
            ]
          },
          "metadata": {},
          "execution_count": 11
        }
      ]
    },
    {
      "cell_type": "code",
      "source": [
        "Input_size = 155\n",
        "Number_Neuron_Hidden_Layer = 128 # 128\n",
        "code_size = 150 #32"
      ],
      "metadata": {
        "id": "imQmO0e--hcI"
      },
      "execution_count": null,
      "outputs": []
    },
    {
      "cell_type": "code",
      "source": [
        "Input_Layer = Input(shape=(Input_size,))\n",
        "Hidden_Encoder = Dense(Number_Neuron_Hidden_Layer, activation='relu')(Input_Layer)\n",
        "code = Dense(code_size, activation='relu')(Hidden_Encoder)\n",
        "Hidden_Decoder = Dense(Number_Neuron_Hidden_Layer, activation='relu')(code)\n",
        "Output_Layer = Dense(Input_size, activation='sigmoid')(Hidden_Decoder) # Output should be between 0 and 1 as the input : normalization\n",
        "\n",
        "autoencoder = Model(Input_Layer, Output_Layer)\n",
        "autoencoder.compile(optimizer='adam', loss='binary_crossentropy')\n",
        "autoencoder.fit(x_train1, x_train1, epochs=3)\n",
        "\n",
        "\n",
        "\n",
        "\n",
        "image_prediction = autoencoder.predict(x_test1)"
      ],
      "metadata": {
        "colab": {
          "base_uri": "https://localhost:8080/"
        },
        "id": "PtjIqMtH-pNb",
        "outputId": "0d59fc52-874a-4f57-d709-8b79173f03d9"
      },
      "execution_count": null,
      "outputs": [
        {
          "output_type": "stream",
          "name": "stdout",
          "text": [
            "Epoch 1/3\n",
            "1875/1875 [==============================] - 11s 3ms/step - loss: 0.1340\n",
            "Epoch 2/3\n",
            "1875/1875 [==============================] - 5s 3ms/step - loss: 0.0964\n",
            "Epoch 3/3\n",
            "1875/1875 [==============================] - 6s 3ms/step - loss: 0.0909\n",
            "313/313 [==============================] - 1s 2ms/step\n"
          ]
        }
      ]
    },
    {
      "cell_type": "code",
      "source": [
        "\n",
        "\n",
        "import matplotlib.pyplot as plt\n",
        "\n",
        "for i in range (0,3):\n",
        "    plt.subplot(2,3,i+1)\n",
        "    plt.imshow(x_test1[i].reshape((28,28)),'gray')\n",
        "    plt.subplot(2,3,i+4)\n",
        "    plt.imshow(image_prediction[i].reshape(28, 28),'gray')\n"
      ],
      "metadata": {
        "colab": {
          "base_uri": "https://localhost:8080/",
          "height": 411
        },
        "id": "O8WUPis6_Cig",
        "outputId": "cc2e34fb-a05e-4e16-d310-d1da9ead4626"
      },
      "execution_count": null,
      "outputs": [
        {
          "output_type": "display_data",
          "data": {
            "text/plain": [
              "<Figure size 640x480 with 6 Axes>"
            ],
            "image/png": "[encoded data removed]"
          },
          "metadata": {}
        }
      ]
    },
    {
      "cell_type": "code",
      "source": [],
      "metadata": {
        "id": "fo2H8W9cA_X-"
      },
      "execution_count": null,
      "outputs": []
    },
    {
      "cell_type": "code",
      "source": [
        "\n",
        "Input_size = 784\n",
        "Number_Neuron_Hidden_Layer = 128\n",
        "code_size = 32\n",
        "\n",
        "# Définir l'encodeur (encoder)\n",
        "Input_Layer = Input(shape=(Input_size,))\n",
        "Hidden_Encoder = Dense(Number_Neuron_Hidden_Layer, activation='relu')(Input_Layer)\n",
        "code = Dense(code_size, activation='relu')(Hidden_Encoder)\n",
        "\n",
        "encoder = Model(Input_Layer, code)\n",
        "\n",
        "# Compiler l'encodeur (encoder)\n",
        "encoder.compile(optimizer='adam', loss='binary_crossentropy')\n"
      ],
      "metadata": {
        "id": "iUf7HVf9_X4E"
      },
      "execution_count": null,
      "outputs": []
    },
    {
      "cell_type": "code",
      "source": [
        "# Obtenir les images encodées\n",
        "encoded_images = encoder.predict(x_test1)\n",
        "encoded_images.shape\n"
      ],
      "metadata": {
        "colab": {
          "base_uri": "https://localhost:8080/"
        },
        "id": "JcPtAfGhA4W4",
        "outputId": "473c8318-2532-4d39-d7ff-372ba46f7a0e"
      },
      "execution_count": null,
      "outputs": [
        {
          "output_type": "stream",
          "name": "stdout",
          "text": [
            "313/313 [==============================] - 2s 5ms/step\n"
          ]
        },
        {
          "output_type": "execute_result",
          "data": {
            "text/plain": [
              "(10000, 32)"
            ]
          },
          "metadata": {},
          "execution_count": 35
        }
      ]
    },
    {
      "cell_type": "code",
      "source": [
        "# Visualisation des images encodées\n",
        "for i in range(3):\n",
        "    plt.subplot(1, 3, i + 1)\n",
        "    plt.imshow(encoded_images[i].reshape((8, 4)), 'gray')\n",
        "\n",
        "plt.show()"
      ],
      "metadata": {
        "colab": {
          "base_uri": "https://localhost:8080/",
          "height": 352
        },
        "id": "fEnN2ptfCzKY",
        "outputId": "96c3f466-b470-4674-8b61-367101d1b879"
      },
      "execution_count": null,
      "outputs": [
        {
          "output_type": "display_data",
          "data": {
            "text/plain": [
              "<Figure size 640x480 with 3 Axes>"
            ],
            "image/png": "[encoded data removed]"
          },
          "metadata": {}
        }
      ]
    },
    {
      "cell_type": "code",
      "source": [],
      "metadata": {
        "id": "UcZjTRxOC__E"
      },
      "execution_count": null,
      "outputs": []
    }
  ]
}